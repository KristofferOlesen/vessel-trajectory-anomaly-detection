{
 "cells": [
  {
   "cell_type": "markdown",
   "id": "1fe58ec7",
   "metadata": {},
   "source": [
    "# Load packages"
   ]
  },
  {
   "cell_type": "code",
   "execution_count": 1,
   "id": "7a52873e",
   "metadata": {},
   "outputs": [],
   "source": [
    "# Loading the required packages to run this notebook\n",
    "from src.visualisation.SummaryModels import SummaryModels\n",
    "import pandas as pd"
   ]
  },
  {
   "cell_type": "markdown",
   "id": "552385ae",
   "metadata": {},
   "source": [
    "# Default model setup - Fishing vessels only - Same dates & ROI \n",
    "Use the VRNN model, 100 dimensional latent and recurrent laten space, and no batch normalization, scheduler, or KL annealing. Compare results for fishing vessels, cargo and tankers, and fishing, cargo, and tankers. The comparison is done on the fishing vessel only validation set used during the training of fishing vessel VRNN model (see 'Explore Training & Validation Curves - Fishing Vessels.ipynb')"
   ]
  },
  {
   "cell_type": "markdown",
   "id": "f5e0013c",
   "metadata": {},
   "source": [
    "## Epoch level learning curves"
   ]
  },
  {
   "cell_type": "code",
   "execution_count": null,
   "id": "fda973cd",
   "metadata": {},
   "outputs": [],
   "source": [
    "# Use the SummaryModels class\n",
    "setup_type = \"Fishing\"\n",
    "model_prefix = \"Fishing_vessels_only_\"\n",
    "fishing_file = \"RegionSkagen_01062019_30092019_Fish_14400_86400_600\"\n",
    "summary_models_fish = SummaryModels(\"RegionSkagen_01062019_30092019_Fish_14400_86400_600\", model_prefix=model_prefix)\n",
    "df_fish = summary_models_fish.load_curves_df(setup_type, validation_only=True)\n",
    "df_track_lvl_fish = summary_models_fish.run_evaluation(setup_type=setup_type, fishing_file=fishing_file)[\"TrajectoryLevelData\"]\n",
    "\n",
    "setup_type = \"Cargo_Tankers\"\n",
    "summary_models_carg_tank = SummaryModels(\"RegionSkagen_01062019_30092019_CargTank_14400_86400_600\", model_prefix=model_prefix)\n",
    "df_carg_tank = summary_models_carg_tank.load_curves_df(setup_type, validation_only=True)\n",
    "df_track_lvl_carg_tank = summary_models_carg_tank.run_evaluation(setup_type=setup_type,\n",
    "                                                                 fishing_file=fishing_file)[\"TrajectoryLevelData\"] \n",
    "\n",
    "setup_type = \"Fishing_Cargo_Tankers\"\n",
    "summary_models_fish_carg_tank = SummaryModels(\"RegionSkagen_01062019_30092019_FishCargTank_14400_86400_600\",\n",
    "                                              model_prefix=model_prefix)\n",
    "df_fish_carg_tank = summary_models_fish_carg_tank.load_curves_df(setup_type, validation_only=True)\n",
    "df_track_lvl_fish_carg_tank = summary_models_fish_carg_tank.run_evaluation(setup_type=setup_type, \n",
    "                                                                           fishing_file=fishing_file)[\"TrajectoryLevelData\"] \n",
    "\n",
    "# Combine the different vessel type date frames \n",
    "df = pd.concat([df_fish, df_carg_tank, df_fish_carg_tank])\n",
    "df.reset_index(drop=True, inplace=True)\n",
    "\n",
    "# Plot the learning curves\n",
    "hue = \"Setup type\"\n",
    "hue_order = [\"Fishing\", \"Cargo_Tankers\", \"Fishing_Cargo_Tankers\"]\n",
    "summary_models_fish_carg_tank.plot_curves(df[df[\"Data set type\"] == \"Validation\"], hue, hue_order)"
   ]
  },
  {
   "cell_type": "markdown",
   "id": "b9f1e4b0",
   "metadata": {},
   "source": [
    "## Optimizer steps level learning curves"
   ]
  },
  {
   "cell_type": "code",
   "execution_count": null,
   "id": "0c80b801",
   "metadata": {},
   "outputs": [],
   "source": [
    "# Use the SummaryModels class\n",
    "level = \"Step\"\n",
    "df_fish = summary_models_fish.load_curves_df(\"Fishing\", validation_only=True, level=level)\n",
    "df_carg_tank = summary_models_carg_tank.load_curves_df(\"Cargo_Tankers\", validation_only=True, level=level)\n",
    "df_fish_carg_tank = summary_models_fish_carg_tank.load_curves_df(\"Fishing_Cargo_Tankers\", validation_only=True, level=level)\n",
    "\n",
    "# Combine the different vessel type date frames \n",
    "df = pd.concat([df_fish, df_carg_tank, df_fish_carg_tank])\n",
    "df.reset_index(drop=True, inplace=True)\n",
    "\n",
    "# Plot the learning curves\n",
    "x = \"Number of optimiser steps\"\n",
    "summary_models_fish_carg_tank.plot_curves(df[df[\"Data set type\"] == \"Validation\"], hue, hue_order,\n",
    "                                          x=x, ylims=[(5, 25), (0, 0.1), (-25, -5)])"
   ]
  },
  {
   "cell_type": "markdown",
   "id": "d684b9b1",
   "metadata": {},
   "source": [
    "### Tajectory (sum of points) and equally weighted point based reconstruction log probabilities"
   ]
  },
  {
   "cell_type": "code",
   "execution_count": null,
   "id": "1ecd1fba",
   "metadata": {
    "scrolled": false
   },
   "outputs": [],
   "source": [
    "# Combine the different vessel type date frames\n",
    "df_recon = pd.concat([df_track_lvl_fish, df_track_lvl_carg_tank, df_track_lvl_fish_carg_tank])\n",
    "df_recon.reset_index(drop=True, inplace=True)\n",
    "\n",
    "# Plot trajectory based reconstruction log probabilities for fishing vessels\n",
    "hue_order_tmp = hue_order\n",
    "hue_order = [\"Fishing\", \"Cargo_Tankers\", \"Fishing_Cargo_Tankers\"]\n",
    "title = \"Trajectory based reconstruction log probabilities - Trained on different types comparison\"\n",
    "x = \"Reconstruction log probability\"\n",
    "summary_models_fish_carg_tank.hist_stacked_plot(df_recon, type=\"Histogram\", x=x, title=title, hue=hue, hue_order=hue_order)\n",
    "summary_models_fish_carg_tank.hist_stacked_plot(df_recon, type=\"Stacked\", x=x, title=title, hue=hue,\n",
    "                                                hue_order=hue_order, stat=\"proportion\")\n",
    "summary_models_fish_carg_tank.hist_stacked_plot(df_recon, type=\"Stacked\", x=x, title=title, hue=hue, hue_order=hue_order,\n",
    "                                                stat=\"normalized_each_bin\", ylabel=\"Stacked bin percentages\")\n",
    "\n",
    "# Plot equally weighted (point based) reconstruction log probabilities for fishing vessels\n",
    "title = \"Equally weighted (point based) reconstruction log probabilities - Trained on different types comparison\"\n",
    "x = \"Equally weighted reconstruction log probability\"\n",
    "summary_models_fish_carg_tank.hist_stacked_plot(df_recon, type=\"Histogram\", x=x, title=title, hue=hue, hue_order=hue_order)\n",
    "summary_models_fish_carg_tank.hist_stacked_plot(df_recon, type=\"Stacked\", x=x, title=title, hue=hue,\n",
    "                                                hue_order=hue_order, stat=\"proportion\")\n",
    "summary_models_fish_carg_tank.hist_stacked_plot(df_recon, type=\"Stacked\", x=x, title=title, hue=hue, hue_order=hue_order,\n",
    "                                                stat=\"normalized_each_bin\", ylabel=\"Stacked bin percentages\")\n",
    "hue_order = hue_order_tmp\n",
    "df_recon.groupby(hue)[x].describe()"
   ]
  },
  {
   "cell_type": "markdown",
   "id": "136bae4b",
   "metadata": {},
   "source": [
    "# Default model setup - Fishing vessels only - Different dates \n",
    "Use the VRNN model, 100 dimensional latent and recurrent laten space, and no batch normalization, scheduler, or KL annealing. The comparison is now done on the new fishing vessel only validation set sampled from 01.05.2019 - 31.05.2019"
   ]
  },
  {
   "cell_type": "markdown",
   "id": "5c64d53b",
   "metadata": {},
   "source": [
    "## Epoch level learning curves"
   ]
  },
  {
   "cell_type": "code",
   "execution_count": null,
   "id": "e657d660",
   "metadata": {},
   "outputs": [],
   "source": [
    "# Use the SummaryModels class\n",
    "setup_type = \"Fishing_New\"\n",
    "model_prefix = \"New_Fishing_vessels_only_\"\n",
    "fishing_new_file = \"RegionSkagen_01052019_31052019_Fish_14400_86400_600\"\n",
    "summary_models_fish = SummaryModels(\"RegionSkagen_01062019_30092019_Fish_14400_86400_600\", model_prefix=model_prefix)\n",
    "df_fish = summary_models_fish.load_curves_df(setup_type, validation_only=True)\n",
    "df_track_lvl_fish = summary_models_fish.run_evaluation(setup_type=setup_type,\n",
    "                                                       fishing_new_file=fishing_new_file)[\"TrajectoryLevelData\"] \n",
    "\n",
    "setup_type = \"Cargo_Tankers_New\"\n",
    "summary_models_carg_tank = SummaryModels(\"RegionSkagen_01062019_30092019_CargTank_14400_86400_600\", model_prefix=model_prefix)\n",
    "df_carg_tank = summary_models_carg_tank.load_curves_df(setup_type, validation_only=True)\n",
    "df_track_lvl_carg_tank = summary_models_carg_tank.run_evaluation(setup_type=setup_type,\n",
    "                                                                 fishing_new_file=fishing_new_file)[\"TrajectoryLevelData\"] \n",
    "\n",
    "setup_type = \"Fishing_Cargo_Tankers_New\"\n",
    "summary_models_fish_carg_tank = SummaryModels(\"RegionSkagen_01062019_30092019_FishCargTank_14400_86400_600\", \n",
    "                                              model_prefix=model_prefix)\n",
    "df_fish_carg_tank = summary_models_fish_carg_tank.load_curves_df(setup_type, validation_only=True)\n",
    "df_track_lvl_fish_carg_tank = summary_models_fish_carg_tank.run_evaluation(setup_type=setup_type, \n",
    "                                                                           fishing_new_file=fishing_new_file)[\"TrajectoryLevelData\"] \n",
    "\n",
    "# Combine the different vessel type date frames \n",
    "df_new = pd.concat([df_fish, df_carg_tank, df_fish_carg_tank])\n",
    "df_new.reset_index(drop=True, inplace=True)\n",
    "\n",
    "# Plot the learning curves\n",
    "hue_order = [\"Fishing_New\", \"Cargo_Tankers_New\", \"Fishing_Cargo_Tankers_New\"]\n",
    "summary_models_fish_carg_tank.plot_curves(df_new[df_new[\"Data set type\"] == \"Validation\"], hue, hue_order)"
   ]
  },
  {
   "cell_type": "markdown",
   "id": "d1be140f",
   "metadata": {},
   "source": [
    "## Optimizer steps level learning curves"
   ]
  },
  {
   "cell_type": "code",
   "execution_count": null,
   "id": "6ca296c0",
   "metadata": {},
   "outputs": [],
   "source": [
    "# Use the SummaryModels class\n",
    "level = \"Step\"\n",
    "df_fish = summary_models_fish.load_curves_df(\"Fishing_New\", validation_only=True, level=level)\n",
    "df_carg_tank = summary_models_carg_tank.load_curves_df(\"Cargo_Tankers_New\", validation_only=True, level=level)\n",
    "df_fish_carg_tank = summary_models_fish_carg_tank.load_curves_df(\"Fishing_Cargo_Tankers_New\", validation_only=True, level=level)\n",
    "\n",
    "# Combine the different vessel type date frames \n",
    "df_new = pd.concat([df_fish, df_carg_tank, df_fish_carg_tank])\n",
    "df_new.reset_index(drop=True, inplace=True)\n",
    "\n",
    "# Plot the learning curves\n",
    "x = \"Number of optimiser steps\"\n",
    "summary_models_fish_carg_tank.plot_curves(df_new[df_new[\"Data set type\"] == \"Validation\"], hue, hue_order,\n",
    "                                          x=x, ylims=[(8, 30), (0, 0.1), (-28, -8)])"
   ]
  },
  {
   "cell_type": "markdown",
   "id": "d87e9227",
   "metadata": {},
   "source": [
    "### Tajectory (sum of points) and equally weighted point based reconstruction log probabilities"
   ]
  },
  {
   "cell_type": "code",
   "execution_count": null,
   "id": "c3248b5c",
   "metadata": {
    "scrolled": false
   },
   "outputs": [],
   "source": [
    "# Combine the different vessel type date frames\n",
    "df_recon = pd.concat([df_track_lvl_fish, df_track_lvl_carg_tank, df_track_lvl_fish_carg_tank])\n",
    "df_recon.reset_index(drop=True, inplace=True)\n",
    "\n",
    "# Plot trajectory based reconstruction log probabilities for the new fishing vessel trajectories\n",
    "hue_order_tmp = hue_order\n",
    "hue_order = [\"Fishing_New\", \"Cargo_Tankers_New\", \"Fishing_Cargo_Tankers_New\"]\n",
    "bins = 30\n",
    "title = \"Trajectory based reconstruction log probabilities - Trained on different types comparison\"\n",
    "x = \"Reconstruction log probability\"\n",
    "summary_models_fish_carg_tank.hist_stacked_plot(df_recon, type=\"Histogram\", x=x, bins=bins,\n",
    "                                                title=title,  hue=hue, hue_order=hue_order)\n",
    "summary_models_fish_carg_tank.hist_stacked_plot(df_recon, type=\"Stacked\", x=x, bins=bins, title=title,\n",
    "                                                hue=hue, hue_order=hue_order, stat=\"proportion\")\n",
    "summary_models_fish_carg_tank.hist_stacked_plot(df_recon, type=\"Stacked\", x=x, bins=bins, title=title, hue=hue, hue_order=hue_order,\n",
    "                                                stat=\"normalized_each_bin\", ylabel=\"Stacked bin percentages\")\n",
    "\n",
    "# Plot equally weighted (point based) reconstruction log probabilities for the new fishing vessel trajectories\n",
    "title = \"Equally weighted (point based) reconstruction log probabilities - Trained on different types comparison\"\n",
    "x = \"Equally weighted reconstruction log probability\"\n",
    "summary_models_fish_carg_tank.hist_stacked_plot(df_recon, type=\"Histogram\", x=x, bins=bins,\n",
    "                                                title=title, hue=hue, hue_order=hue_order)\n",
    "summary_models_fish_carg_tank.hist_stacked_plot(df_recon, type=\"Stacked\", x=x, bins=bins, title=title,\n",
    "                                                hue=hue, hue_order=hue_order, stat=\"proportion\")\n",
    "summary_models_fish_carg_tank.hist_stacked_plot(df_recon, type=\"Stacked\", x=x, bins=bins, title=title, hue=hue, hue_order=hue_order,\n",
    "                                                stat=\"normalized_each_bin\", ylabel=\"Stacked bin percentages\")\n",
    "hue_order = hue_order_tmp\n",
    "df_recon.groupby(hue)[x].describe()"
   ]
  },
  {
   "cell_type": "markdown",
   "id": "753b2dc4",
   "metadata": {},
   "source": [
    "# Default model setup - Fishing vessels only - Comparison\n",
    "Compare the two setups shown above in one figure\n"
   ]
  },
  {
   "cell_type": "code",
   "execution_count": null,
   "id": "d4f5787a",
   "metadata": {},
   "outputs": [],
   "source": [
    "# Combine the different vessel type date frames \n",
    "df_compare = pd.concat([df, df_new])\n",
    "df_compare.reset_index(drop=True, inplace=True)\n",
    "\n",
    "# Plot the learning curves\n",
    "x = \"Number of optimiser steps\"\n",
    "hue = \"Setup type\"\n",
    "hue_order = [\"Fishing\", \"Fishing_New\", \"Cargo_Tankers\",  \"Cargo_Tankers_New\",\n",
    "             \"Fishing_Cargo_Tankers\", \"Fishing_Cargo_Tankers_New\"]\n",
    "\n",
    "summary_models_fish_carg_tank.plot_curves(df_compare[df_compare[\"Data set type\"] == \"Validation\"], hue, hue_order, \n",
    "                                          x=x, ylims=[(5, 30), (0, 0.1), (-26, -5)])"
   ]
  },
  {
   "cell_type": "code",
   "execution_count": null,
   "id": "6dea8328",
   "metadata": {},
   "outputs": [],
   "source": []
  }
 ],
 "metadata": {
  "kernelspec": {
   "display_name": "Python 3 (ipykernel)",
   "language": "python",
   "name": "python3"
  },
  "language_info": {
   "codemirror_mode": {
    "name": "ipython",
    "version": 3
   },
   "file_extension": ".py",
   "mimetype": "text/x-python",
   "name": "python",
   "nbconvert_exporter": "python",
   "pygments_lexer": "ipython3",
   "version": "3.9.6"
  }
 },
 "nbformat": 4,
 "nbformat_minor": 5
}
