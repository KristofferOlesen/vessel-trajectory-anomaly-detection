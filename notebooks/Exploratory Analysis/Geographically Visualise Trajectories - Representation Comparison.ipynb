{
 "cells": [
  {
   "cell_type": "markdown",
   "id": "9c2d4645",
   "metadata": {},
   "source": [
    "# Load packages and data"
   ]
  },
  {
   "cell_type": "code",
   "execution_count": 1,
   "id": "4216e75c",
   "metadata": {},
   "outputs": [],
   "source": [
    "# Loading the required packages to run this notebook\n",
    "import src.utils.utils as utils\n",
    "from src.visualisation.VisualiseTrajectories import VisualiseTrajectories\n",
    "from src.data.Datasets import AISDiscreteRepresentation\n",
    "from pathlib import Path\n",
    "\n",
    "# Define the region to look into\n",
    "region = \"Bornholm\"\n",
    "zoom = 8\n",
    "continuous_representation=False"
   ]
  },
  {
   "cell_type": "code",
   "execution_count": 2,
   "id": "db336d77",
   "metadata": {},
   "outputs": [],
   "source": [
    "# Use the VisualiseTrajectories class\n",
    "fig_size = (10, 10)\n",
    "visualise_trajectories = VisualiseTrajectories(region, save_figures=True, plot_figures=True, fig_size=fig_size, zoom=zoom,\n",
    "                                               continuous_representation=continuous_representation)\n",
    "processed_data_dir =  visualise_trajectories.processed_data_dir\n",
    "\n",
    "# Load the static Google Map image for the RIO\n",
    "img = visualise_trajectories.read_static_map()"
   ]
  },
  {
   "cell_type": "markdown",
   "id": "94588dd1",
   "metadata": {},
   "source": [
    "# Visualise multiple trajectories geographically - Comparison"
   ]
  },
  {
   "cell_type": "code",
   "execution_count": null,
   "id": "375391c7",
   "metadata": {},
   "outputs": [
    {
     "name": "stdout",
     "output_type": "stream",
     "text": [
      "Max track lengths Cargo/Tankers: 4772 and 84 (84)\n"
     ]
    }
   ],
   "source": [
    "# Plot Cargo and tankers on one side and fishing vessel trajectory examples on the other\n",
    "visualise_trajectories.fig_size = (20,10)\n",
    "fig, ax = visualise_trajectories.visualise_static_map(img, subplots=[1, 3])\n",
    "fig2, ax2 = visualise_trajectories.visualise_static_map(img, subplots=[1, 3])\n",
    "\n",
    "# Plot some cargo and tanker vessel trajectory examples\n",
    "file_name = \"RegionBornholm_01062019_30092019_CargTank_14400_86400_0\"\n",
    "data_file = processed_data_dir / (\"data_\" + file_name + \".pkl\")\n",
    "data_info_file = processed_data_dir / (\"datasetInfo_\" + file_name + \".pkl\")\n",
    "data_info_carg_tank_all = utils.read_data_info_file(data_info_file) # Read the info file to know how to read the data file\n",
    "tracks_carg_tank_all = visualise_trajectories.plot_multiple_tracks(ax[0], indicies=data_info_carg_tank_all[\"indicies\"][:50],\n",
    "                                                                   data_path=data_file, use_cmap=True)\n",
    "file_name = \"RegionBornholm_01062019_30092019_CargTank_14400_86400_600\"\n",
    "data_file = processed_data_dir / (\"data_\" + file_name + \".pkl\")\n",
    "data_info_file = processed_data_dir / (\"datasetInfo_\" + file_name + \".pkl\")\n",
    "data_info_carg_tank = utils.read_data_info_file(data_info_file) # Read the info file to know how to read the data file\n",
    "tracks_carg_tank = visualise_trajectories.plot_multiple_tracks(ax[1], indicies=data_info_carg_tank[\"indicies\"][:50],\n",
    "                                                               data_path=data_file, use_cmap=True)\n",
    "data_set = AISDiscreteRepresentation(file_name, data_info=data_info_carg_tank, indicies=data_info_carg_tank[\"indicies\"][:50])\n",
    "df_1 = utils.get_tracks_from_dataset(data_set, continuous_representation=continuous_representation)\n",
    "tracks_1 = visualise_trajectories.plot_multiple_tracks(ax[2], df=df_1, data_path=data_file, use_cmap=True)\n",
    "print(f\"Max track lengths Cargo/Tankers: {max(tracks_carg_tank_all['Track length'])} and {max(tracks_carg_tank['Track length'])} ({max(tracks_1['Track length'])})\")\n",
    "\n",
    "# Plot some fishing vessel trajectory examples\n",
    "file_name = \"RegionBornholm_01062019_30092019_Fish_14400_86400_0\"\n",
    "data_file = processed_data_dir / (\"data_\" + file_name + \".pkl\")\n",
    "data_info_file = processed_data_dir / (\"datasetInfo_\" + file_name + \".pkl\")\n",
    "data_info_fish_all = utils.read_data_info_file(data_info_file) # Read the info file to know how to read the data file\n",
    "tracks_fish_all = visualise_trajectories.plot_multiple_tracks(ax2[0], indicies=data_info_fish_all[\"indicies\"][:50],\n",
    "                                                          data_path=data_file, use_cmap=True)\n",
    "file_name = \"RegionBornholm_01062019_30092019_Fish_14400_86400_600\"\n",
    "data_file = processed_data_dir / (\"data_\" + file_name + \".pkl\")\n",
    "data_info_file = processed_data_dir / (\"datasetInfo_\" + file_name + \".pkl\")\n",
    "data_info_fish = utils.read_data_info_file(data_info_file) # Read the info file to know how to read the data file\n",
    "tracks_fish = visualise_trajectories.plot_multiple_tracks(ax2[1], indicies=data_info_fish[\"indicies\"][:50],\n",
    "                                                          data_path=data_file, use_cmap=True)\n",
    "data_set = AISDiscreteRepresentation(file_name, data_info=data_info_fish, indicies=data_info_fish[\"indicies\"][:50])\n",
    "df_2 = utils.get_tracks_from_dataset(data_set, continuous_representation=continuous_representation)\n",
    "tracks_2 = visualise_trajectories.plot_multiple_tracks(ax2[2], df=df_2, data_path=data_file, use_cmap=True)\n",
    "print(f\"Max track lengths Fishing: {max(tracks_fish_all['Track length'])} and {max(tracks_fish['Track length'])} ({max(tracks_2['Track length'])})\")"
   ]
  },
  {
   "cell_type": "code",
   "execution_count": null,
   "id": "f9082794",
   "metadata": {},
   "outputs": [],
   "source": []
  }
 ],
 "metadata": {
  "kernelspec": {
   "display_name": "Python 3 (ipykernel)",
   "language": "python",
   "name": "python3"
  },
  "language_info": {
   "codemirror_mode": {
    "name": "ipython",
    "version": 3
   },
   "file_extension": ".py",
   "mimetype": "text/x-python",
   "name": "python",
   "nbconvert_exporter": "python",
   "pygments_lexer": "ipython3",
   "version": "3.9.6"
  }
 },
 "nbformat": 4,
 "nbformat_minor": 5
}
